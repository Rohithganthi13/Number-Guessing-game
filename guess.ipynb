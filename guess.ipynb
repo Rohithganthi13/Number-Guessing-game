{
 "cells": [
  {
   "cell_type": "code",
   "execution_count": 1,
   "id": "a0401dfb-140a-40f2-acb1-939caeaed966",
   "metadata": {},
   "outputs": [
    {
     "name": "stdout",
     "output_type": "stream",
     "text": [
      "welcome to the guess game\n"
     ]
    },
    {
     "name": "stdin",
     "output_type": "stream",
     "text": [
      "Enter your guess: 17\n"
     ]
    },
    {
     "name": "stdout",
     "output_type": "stream",
     "text": [
      "too high try again\n"
     ]
    },
    {
     "name": "stdin",
     "output_type": "stream",
     "text": [
      "Enter your guess: 11\n"
     ]
    },
    {
     "name": "stdout",
     "output_type": "stream",
     "text": [
      "too low try again\n"
     ]
    },
    {
     "name": "stdin",
     "output_type": "stream",
     "text": [
      "Enter your guess: 13\n"
     ]
    },
    {
     "name": "stdout",
     "output_type": "stream",
     "text": [
      "congrats,you have guessed the correct number in  0 attempts\n"
     ]
    }
   ],
   "source": [
    "attempts=6\n",
    "number_to_guess=13\n",
    "print(\"welcome to the guess game\")\n",
    "attempt=0\n",
    "while attempt<attempts:\n",
    "    user_guess=int(input(\"Enter your guess:\"))\n",
    "    if user_guess==number_to_guess:\n",
    "       print(\"congrats,you have guessed the correct number in \",attempt,\"attempts\")\n",
    "       break\n",
    "    elif user_guess<number_to_guess:\n",
    "         print(\"too low try again\")\n",
    "    else:\n",
    "         print(\"too high try again\")\n",
    "attempt+=1\n",
    "if attempt==attempts:\n",
    "    print(\"sorry you didnt guess the number.the correct number was\",number_to_guess)\n",
    "    \n"
   ]
  },
  {
   "cell_type": "code",
   "execution_count": null,
   "id": "93a6bef1-9a91-49a8-b7c3-30235423a1d4",
   "metadata": {},
   "outputs": [],
   "source": []
  }
 ],
 "metadata": {
  "kernelspec": {
   "display_name": "Python 3 (ipykernel)",
   "language": "python",
   "name": "python3"
  },
  "language_info": {
   "codemirror_mode": {
    "name": "ipython",
    "version": 3
   },
   "file_extension": ".py",
   "mimetype": "text/x-python",
   "name": "python",
   "nbconvert_exporter": "python",
   "pygments_lexer": "ipython3",
   "version": "3.12.4"
  }
 },
 "nbformat": 4,
 "nbformat_minor": 5
}
